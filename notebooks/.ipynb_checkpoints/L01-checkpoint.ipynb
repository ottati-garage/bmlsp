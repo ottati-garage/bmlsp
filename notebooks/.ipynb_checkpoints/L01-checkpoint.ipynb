{
 "cells": [
  {
   "cell_type": "markdown",
   "metadata": {},
   "source": [
    "# L01\n",
    "\n",
    "各種ライブラリの使い方を学習"
   ]
  },
  {
   "cell_type": "code",
   "execution_count": 1,
   "metadata": {
    "collapsed": false
   },
   "outputs": [
    {
     "data": {
      "text/plain": [
       "array([1, 1, 2, 2, 2, 2])"
      ]
     },
     "execution_count": 1,
     "metadata": {},
     "output_type": "execute_result"
    }
   ],
   "source": [
    "import numpy\n",
    "numpy.version.full_version\n",
    "import numpy as np\n",
    "\n",
    "a = np.array([0,1,2,3,4,5])\n",
    "b = a.reshape((3,2))\n",
    "\n",
    "b[1][0] = 77\n",
    "c = a.reshape((3,2)).copy()\n",
    "c[0][0] = -99\n",
    "a = np.array([0,1,2,3,4,5])\n",
    "a > 4\n",
    "a[a>4]\n",
    "a[a>3] = 3\n",
    "a.clip(1,2)"
   ]
  },
  {
   "cell_type": "code",
   "execution_count": 2,
   "metadata": {
    "collapsed": false
   },
   "outputs": [
    {
     "data": {
      "text/plain": [
       "2.5"
      ]
     },
     "execution_count": 2,
     "metadata": {},
     "output_type": "execute_result"
    }
   ],
   "source": [
    "# 不適切な値への対応\n",
    "c = np.array([1,2,np.NAN, 3,4])\n",
    "np.mean(c[~np.isnan(c)])"
   ]
  },
  {
   "cell_type": "code",
   "execution_count": 3,
   "metadata": {
    "collapsed": false
   },
   "outputs": [
    {
     "name": "stdout",
     "output_type": "stream",
     "text": [
      "Normal Python 1.430459195995354 sec\n",
      "Naive Numpy 1.7487881949928124 sec\n",
      "Good Numpy 0.042907741997623816 sec\n"
     ]
    }
   ],
   "source": [
    "# 処理速度の比較\n",
    "import timeit\n",
    "normal_py_sec = timeit.timeit('sum(x*x for x in range(1000))', number=10000)\n",
    "naive_np_sec = timeit.timeit('sum(na*na)', setup=\"import numpy as np; na=np.arange(1000)\", number=10000)\n",
    "good_np_sec = timeit.timeit('na.dot(na)', setup=\"import numpy as np; na=np.arange(1000)\", number=10000)\n",
    "print(\"Normal Python {} sec\".format(normal_py_sec))\n",
    "print(\"Naive Numpy {} sec\".format(naive_np_sec))\n",
    "print(\"Good Numpy {} sec\".format(good_np_sec))"
   ]
  },
  {
   "cell_type": "code",
   "execution_count": 4,
   "metadata": {
    "collapsed": false
   },
   "outputs": [
    {
     "data": {
      "text/plain": [
       "dtype('int64')"
      ]
     },
     "execution_count": 4,
     "metadata": {},
     "output_type": "execute_result"
    }
   ],
   "source": [
    "# np.arrayは常に一種類の形しか取らない\n",
    "a = np.array([1,2,3])\n",
    "a.dtype"
   ]
  },
  {
   "cell_type": "markdown",
   "metadata": {},
   "source": [
    "## SciPy\n",
    "\n",
    "数値計算に関する書籍に乗っているようなアルゴリズムでは大体がSciPyに実装済み\n",
    "\n",
    "* 行列計算\n",
    "* 線形代数\n",
    "* 最適化問題\n",
    "* クラスタリング\n",
    "* 空間操作\n",
    "* 高速フーリエ変換\n",
    "* etc\n",
    "\n",
    "DRYのためにまずはSciPyモジュールからアルゴリズムを探すこと"
   ]
  },
  {
   "cell_type": "code",
   "execution_count": 5,
   "metadata": {
    "collapsed": false
   },
   "outputs": [
    {
     "data": {
      "text/plain": [
       "'0.17.1'"
      ]
     },
     "execution_count": 5,
     "metadata": {},
     "output_type": "execute_result"
    }
   ],
   "source": [
    "import scipy, numpy\n",
    "scipy.version.full_version"
   ]
  },
  {
   "cell_type": "code",
   "execution_count": 6,
   "metadata": {
    "collapsed": false
   },
   "outputs": [
    {
     "data": {
      "text/plain": [
       "True"
      ]
     },
     "execution_count": 6,
     "metadata": {},
     "output_type": "execute_result"
    }
   ],
   "source": [
    "scipy.dot is numpy.dot"
   ]
  },
  {
   "cell_type": "markdown",
   "metadata": {},
   "source": [
    "## はじめての（簡単な）機械学習アプリケーション\n",
    "\n",
    "用意された題材を使って練習"
   ]
  },
  {
   "cell_type": "code",
   "execution_count": 7,
   "metadata": {
    "collapsed": false
   },
   "outputs": [],
   "source": [
    "import scipy as sp\n",
    "data = sp.genfromtxt(\"resource/ch01/data/web_traffic.tsv\", delimiter=\"\\t\")"
   ]
  },
  {
   "cell_type": "code",
   "execution_count": 8,
   "metadata": {
    "collapsed": false
   },
   "outputs": [],
   "source": [
    "# 前処理とデータ整形\n",
    "# 一番目には経過時間\n",
    "x = data[:,0]\n",
    "y = data[:,1]"
   ]
  },
  {
   "cell_type": "code",
   "execution_count": null,
   "metadata": {
    "collapsed": false
   },
   "outputs": [
    {
     "name": "stdout",
     "output_type": "stream",
     "text": [
      "319874314.777\n",
      "182006476.432\n",
      "125902934.376\n",
      "111276309.052\n",
      "Error inflection=136467834.76562506\n",
      "Error d=1: 7942039.438584683\n",
      "Error d=2: 6210544.319458029\n",
      "Error d=3: 6151414.804406725\n",
      "Error d=10: 7438353.485478759\n",
      "Error d=53: 7876687.518451691\n",
      "         2\n",
      "0.09424 x - 106.2 x - 6.808e+04\n",
      "[ 9.42581509]\n",
      "100,100 hits/hour expected at week 9.425815085187441\n"
     ]
    },
    {
     "name": "stderr",
     "output_type": "stream",
     "text": [
      "/opt/conda/lib/python3.5/site-packages/numpy/lib/polynomial.py:586: RuntimeWarning: overflow encountered in multiply\n",
      "  scale = NX.sqrt((lhs*lhs).sum(axis=0))\n",
      "/opt/conda/lib/python3.5/site-packages/numpy/lib/polynomial.py:594: RankWarning: Polyfit may be poorly conditioned\n",
      "  warnings.warn(msg, RankWarning)\n",
      "/opt/conda/lib/python3.5/site-packages/ipykernel/__main__.py:40: DeprecationWarning: using a non-integer number instead of an integer will result in an error in the future\n",
      "/opt/conda/lib/python3.5/site-packages/ipykernel/__main__.py:41: DeprecationWarning: using a non-integer number instead of an integer will result in an error in the future\n",
      "/opt/conda/lib/python3.5/site-packages/ipykernel/__main__.py:42: DeprecationWarning: using a non-integer number instead of an integer will result in an error in the future\n",
      "/opt/conda/lib/python3.5/site-packages/ipykernel/__main__.py:43: DeprecationWarning: using a non-integer number instead of an integer will result in an error in the future\n",
      "/opt/conda/lib/python3.5/site-packages/ipykernel/__main__.py:51: DeprecationWarning: using a non-integer number instead of an integer will result in an error in the future\n",
      "/opt/conda/lib/python3.5/site-packages/ipykernel/__main__.py:52: DeprecationWarning: using a non-integer number instead of an integer will result in an error in the future\n",
      "/opt/conda/lib/python3.5/site-packages/numpy/lib/polynomial.py:594: RankWarning: Polyfit may be poorly conditioned\n",
      "  warnings.warn(msg, RankWarning)\n",
      "/opt/conda/lib/python3.5/site-packages/numpy/lib/polynomial.py:594: RankWarning: Polyfit may be poorly conditioned\n",
      "  warnings.warn(msg, RankWarning)\n"
     ]
    },
    {
     "data": {
      "image/png": "[encoded data removed]",
      "text/plain": [
       "<matplotlib.figure.Figure at 0x7f37573d4ba8>"
      ]
     },
     "metadata": {},
     "output_type": "display_data"
    }
   ],
   "source": [
    "import matplotlib.pyplot as plt\n",
    "\n",
    "%matplotlib inline\n",
    "plt.scatter(x,y)\n",
    "\n",
    "plt.title(\"Web traffic over the the last month\")\n",
    "plt.xlabel(\"Time\")\n",
    "plt.ylabel(\"Hits/hour\")\n",
    "plt.xticks([w*7*24 for w in range(10)], ['week {}'.format(w) for w in range(10)])\n",
    "plt.autoscale(tight=True)\n",
    "\n",
    "def error(f, x, y):\n",
    "    return sp.sum((f(x)-y) ** 2)\n",
    "\n",
    "fp1, residuals, rank, sv, rcond = sp.polyfit(x, y, 1, full=True)\n",
    "f1 = sp.poly1d(fp1)\n",
    "print(error(f1, x, y))\n",
    "fx = sp.linspace(0, x[-1], 1000)  # plot用に\"x値\"を生成\n",
    "plt.plot(fx, f1(fx), linewidth=2)\n",
    "plt.legend([\"d={}\".format(f1.order)], loc=\"upper left\")\n",
    "\n",
    "f2p = sp.polyfit(x, y, 2)\n",
    "f2 = sp.poly1d(f2p)\n",
    "print(error(f2, x, y))\n",
    "plt.plot(fx, f2(fx), linewidth=2)\n",
    "\n",
    "\n",
    "f5p = sp.polyfit(x, y, 5)\n",
    "f5 = sp.poly1d(f5p)\n",
    "print(error(f5, x, y))\n",
    "plt.plot(fx, f5(fx), linewidth=2)\n",
    "\n",
    "n = 100\n",
    "fnp = sp.polyfit(x, y,  n)\n",
    "fn = sp.poly1d(fnp)\n",
    "print(error(fn, x, y))\n",
    "plt.plot(fx, fn(fx), linewidth=2)\n",
    "\n",
    "inflection = 3.5 * 7 * 24  # 変化点の時間\n",
    "xa = x[:inflection]\n",
    "ya = y[:inflection]\n",
    "xb = x[inflection:]\n",
    "yb = y[inflection:]\n",
    "fa = sp.poly1d(sp.polyfit(xa, ya, 1))\n",
    "fb = sp.poly1d(sp.polyfit(xb, yb, 1))\n",
    "\n",
    "fa_error = error(fa, xa, ya)\n",
    "fb_error = error(fb, xb, yb)\n",
    "\n",
    "\n",
    "fxa = sp.linspace(0, x[inflection], 1000)\n",
    "fxb = sp.linspace(x[inflection], x[-1], 1000)\n",
    "print(\"Error inflection={}\".format(fa_error + fb_error))\n",
    "plt.plot(fxa, fa(fxa), linewidth=2)\n",
    "plt.plot(fxb, fb(fxb), linewidth=2)\n",
    "\n",
    "\n",
    "frac = 0.3  # テストに用いるデータの割合\n",
    "split_idx = int(frac * len(xb))\n",
    "# 全テータの30%をランダムに選び出す\n",
    "shuffled = sp.random.permutation(list(range(len(xb))))\n",
    "test = sorted(shuffled[:split_idx])  #テスト用のデータインデックス配列\n",
    "train = sorted(shuffled[split_idx:])  # 訓練用のデータインデックス配列\n",
    "\n",
    "# それぞれ訓練データを用いて訓練を行う\n",
    "fbt1 = sp.poly1d(sp.polyfit(xb[train], yb[train], 1))\n",
    "fbt2 = sp.poly1d(sp.polyfit(xb[train], yb[train], 2))\n",
    "fbt3 = sp.poly1d(sp.polyfit(xb[train], yb[train], 3))\n",
    "fbt10 = sp.poly1d(sp.polyfit(xb[train], yb[train], 10))\n",
    "fbt100 = sp.poly1d(sp.polyfit(xb[train], yb[train], 100))\n",
    "\n",
    "# テストデータを用いて評価\n",
    "for f in [fbt1, fbt2, fbt3, fbt10, fbt100]:\n",
    "    print(\"Error d={}: {}\".format(f.order, error(f, xb[test], yb[test])))\n",
    "\n",
    "    \n",
    "print(fbt2 - 100000)\n",
    "\n",
    "from scipy.optimize import fsolve\n",
    "\n",
    "reached_max = fsolve(fbt2-100000, 800) / (7*24)\n",
    "print(reached_max)\n",
    "print(\"100,100 hits/hour expected at week {}\".format(reached_max[0]))\n",
    "\n",
    "\n",
    "plt.grid()\n",
    "plt.show()"
   ]
  },
  {
   "cell_type": "code",
   "execution_count": null,
   "metadata": {
    "collapsed": true
   },
   "outputs": [],
   "source": []
  }
 ],
 "metadata": {
  "kernelspec": {
   "display_name": "Python 3",
   "language": "python",
   "name": "python3"
  },
  "language_info": {
   "codemirror_mode": {
    "name": "ipython",
    "version": 3
   },
   "file_extension": ".py",
   "mimetype": "text/x-python",
   "name": "python",
   "nbconvert_exporter": "python",
   "pygments_lexer": "ipython3",
   "version": "3.5.1"
  },
  "widgets": {
   "state": {},
   "version": "1.1.2"
  }
 },
 "nbformat": 4,
 "nbformat_minor": 0
}
